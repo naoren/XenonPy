{
 "cells": [
  {
   "cell_type": "code",
   "execution_count": 1,
   "metadata": {},
   "outputs": [],
   "source": [
    "import pandas as pd\n",
    "import numpy as np\n",
    "from rdkit import Chem\n",
    "from rdkit.Chem import AllChem\n",
    "from sklearn.experimental import enable_iterative_imputer\n",
    "from sklearn.impute import IterativeImputer\n",
    "from sklearn.linear_model import BayesianRidge\n",
    "from sklearn.gaussian_process import GaussianProcessRegressor, kernels\n",
    "from sklearn.metrics import r2_score, mean_squared_error\n",
    "from sklearn.model_selection import train_test_split\n",
    "import matplotlib.pyplot as plt\n",
    "import pickle\n",
    "import optuna\n",
    "import shap\n",
    "from Utils import *"
   ]
  },
  {
   "cell_type": "code",
   "execution_count": 3,
   "metadata": {},
   "outputs": [],
   "source": [
    "df = pd.read_csv('../../data/poly_dataset.csv')\n",
    "train_data = df.copy()\n",
    "pre_data = polymer_data(train_data)\n",
    "pre_data.log_cal()\n",
    "fp = pre_data.get_FP()\n",
    "data = pre_data.imputator(max_iter=100)"
   ]
  },
  {
   "cell_type": "code",
   "execution_count": 9,
   "metadata": {},
   "outputs": [],
   "source": [
    "feature_name = [str(ft) for ft in range(fp.shape[1])]\n",
    "gas = np.array(data.iloc[:,16:])\n",
    "X_train, X_test, y_train, y_test = train_test_split(fp, gas, test_size=0.2, random_state=190)\n",
    "\n",
    "with open('../models/GPR.pkl', 'rb') as f:\n",
    "    loaded_model = pickle.load(f)"
   ]
  },
  {
   "cell_type": "code",
   "execution_count": 10,
   "metadata": {},
   "outputs": [
    {
     "ename": "TypeError",
     "evalue": "The passed model is not callable and cannot be analyzed directly with the given masker! Model: GaussianProcessRegressor(kernel=RBF(length_scale=1) + WhiteKernel(noise_level=1),\n                         n_targets=6, normalize_y=True)",
     "output_type": "error",
     "traceback": [
      "\u001b[0;31m---------------------------------------------------------------------------\u001b[0m",
      "\u001b[0;31mTypeError\u001b[0m                                 Traceback (most recent call last)",
      "\u001b[1;32m/home/naoren/polyML/XenonPy/supervised_learning/shap_for_gpr.ipynb 单元格 4\u001b[0m line \u001b[0;36m1\n\u001b[0;32m----> <a href='vscode-notebook-cell://ssh-remote%2Bnaoren/home/naoren/polyML/XenonPy/supervised_learning/shap_for_gpr.ipynb#W4sdnNjb2RlLXJlbW90ZQ%3D%3D?line=0'>1</a>\u001b[0m explainer \u001b[39m=\u001b[39m shap\u001b[39m.\u001b[39;49mExplainer(loaded_model)\n\u001b[1;32m      <a href='vscode-notebook-cell://ssh-remote%2Bnaoren/home/naoren/polyML/XenonPy/supervised_learning/shap_for_gpr.ipynb#W4sdnNjb2RlLXJlbW90ZQ%3D%3D?line=1'>2</a>\u001b[0m sample \u001b[39m=\u001b[39m X_train\n\u001b[1;32m      <a href='vscode-notebook-cell://ssh-remote%2Bnaoren/home/naoren/polyML/XenonPy/supervised_learning/shap_for_gpr.ipynb#W4sdnNjb2RlLXJlbW90ZQ%3D%3D?line=2'>3</a>\u001b[0m shap_values \u001b[39m=\u001b[39m explainer\u001b[39m.\u001b[39mshap_values(sample)\n",
      "File \u001b[0;32m~/anaconda3/envs/cpoly/lib/python3.9/site-packages/shap/explainers/_explainer.py:171\u001b[0m, in \u001b[0;36mExplainer.__init__\u001b[0;34m(self, model, masker, link, algorithm, output_names, feature_names, linearize_link, seed, **kwargs)\u001b[0m\n\u001b[1;32m    167\u001b[0m             algorithm \u001b[39m=\u001b[39m \u001b[39m\"\u001b[39m\u001b[39mpermutation\u001b[39m\u001b[39m\"\u001b[39m\n\u001b[1;32m    169\u001b[0m     \u001b[39m# if we get here then we don't know how to handle what was given to us\u001b[39;00m\n\u001b[1;32m    170\u001b[0m     \u001b[39melse\u001b[39;00m:\n\u001b[0;32m--> 171\u001b[0m         \u001b[39mraise\u001b[39;00m \u001b[39mTypeError\u001b[39;00m(\u001b[39m\"\u001b[39m\u001b[39mThe passed model is not callable and cannot be analyzed directly with the given masker! Model: \u001b[39m\u001b[39m\"\u001b[39m \u001b[39m+\u001b[39m \u001b[39mstr\u001b[39m(model))\n\u001b[1;32m    173\u001b[0m \u001b[39m# build the right subclass\u001b[39;00m\n\u001b[1;32m    174\u001b[0m \u001b[39mif\u001b[39;00m algorithm \u001b[39m==\u001b[39m \u001b[39m\"\u001b[39m\u001b[39mexact\u001b[39m\u001b[39m\"\u001b[39m:\n",
      "\u001b[0;31mTypeError\u001b[0m: The passed model is not callable and cannot be analyzed directly with the given masker! Model: GaussianProcessRegressor(kernel=RBF(length_scale=1) + WhiteKernel(noise_level=1),\n                         n_targets=6, normalize_y=True)"
     ]
    }
   ],
   "source": [
    "explainer = shap.Explainer(loaded_model)\n",
    "sample = X_train\n",
    "shap_values = explainer.shap_values(sample)\n",
    "\n",
    "shap.summary_plot(shap_values, features=sample, feature_names=feature_name, plot_type='dot', max_display=12, plot_size=(3.33, 3.33))"
   ]
  }
 ],
 "metadata": {
  "kernelspec": {
   "display_name": "cpoly",
   "language": "python",
   "name": "python3"
  },
  "language_info": {
   "codemirror_mode": {
    "name": "ipython",
    "version": 3
   },
   "file_extension": ".py",
   "mimetype": "text/x-python",
   "name": "python",
   "nbconvert_exporter": "python",
   "pygments_lexer": "ipython3",
   "version": "3.9.17"
  },
  "orig_nbformat": 4
 },
 "nbformat": 4,
 "nbformat_minor": 2
}
