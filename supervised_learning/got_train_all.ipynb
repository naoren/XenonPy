{
 "cells": [
  {
   "cell_type": "code",
   "execution_count": 1,
   "metadata": {},
   "outputs": [],
   "source": [
    "import pandas as pd\n",
    "import numpy as np\n",
    "from rdkit import Chem\n",
    "from rdkit.Chem import AllChem, Draw\n",
    "from sklearn.experimental import enable_iterative_imputer\n",
    "from sklearn.impute import IterativeImputer\n",
    "from sklearn.linear_model import BayesianRidge\n",
    "from sklearn.gaussian_process import GaussianProcessRegressor, kernels\n",
    "from sklearn.metrics import r2_score, mean_squared_error\n",
    "from sklearn.model_selection import train_test_split\n",
    "import matplotlib.pyplot as plt\n",
    "import pickle\n",
    "import optuna\n",
    "import shap\n",
    "from Utils import *\n",
    "from matplotlib.offsetbox import AnchoredText"
   ]
  },
  {
   "cell_type": "code",
   "execution_count": 2,
   "metadata": {},
   "outputs": [],
   "source": [
    "data = pd.read_csv('../../data/poly_dataset_imputation.csv')\n",
    "pre_data = polymer_data(data)\n",
    "fp = pre_data.get_FP()\n",
    "y_He = data['log10_He_Bayes'].to_numpy().reshape(-1, 1)\n",
    "y_H2 = data['log10_H2_Bayes'].to_numpy().reshape(-1, 1)\n",
    "y_N2 = data['log10_N2_Bayes'].to_numpy().reshape(-1, 1)\n",
    "y_O2 = data['log10_O2_Bayes'].to_numpy().reshape(-1, 1)\n",
    "y_CO2 = data['log10_CO2_Bayes'].to_numpy().reshape(-1, 1)\n",
    "y_CH4 = data['log10_CH4_Bayes'].to_numpy().reshape(-1, 1)\n",
    "feature_name = [str(ft) for ft in range(fp.shape[1])]\n",
    "kernel = kernels.RBF() + kernels.WhiteKernel()"
   ]
  },
  {
   "cell_type": "code",
   "execution_count": 5,
   "metadata": {},
   "outputs": [],
   "source": [
    "train_model(y_N2, 'N2')"
   ]
  },
  {
   "cell_type": "code",
   "execution_count": 6,
   "metadata": {},
   "outputs": [],
   "source": [
    "train_model(y_O2, 'O2')\n",
    "train_model(y_CO2, 'CO2')\n",
    "train_model(y_CH4, 'CH4')"
   ]
  },
  {
   "cell_type": "code",
   "execution_count": 4,
   "metadata": {},
   "outputs": [],
   "source": [
    "def train_model(gas,gas_name=None):\n",
    "    X_train, X_test, y_train, y_test = train_test_split(fp, gas, test_size=0.2, random_state=190)\n",
    "    model = GaussianProcessRegressor(kernel=kernel, n_restarts_optimizer=0, normalize_y=True, n_targets=1)\n",
    "    model.fit(X_train, y_train)\n",
    "\n",
    "    with open('../models/model_'+ gas_name+'.pkl', 'wb') as f:\n",
    "        pickle.dump(model, f)\n",
    "\n",
    "    with open('../models/model_'+ gas_name+'.pkl', 'rb') as f:\n",
    "        model = pickle.load(f)\n",
    "    "
   ]
  }
 ],
 "metadata": {
  "kernelspec": {
   "display_name": "cpoly",
   "language": "python",
   "name": "python3"
  },
  "language_info": {
   "codemirror_mode": {
    "name": "ipython",
    "version": 3
   },
   "file_extension": ".py",
   "mimetype": "text/x-python",
   "name": "python",
   "nbconvert_exporter": "python",
   "pygments_lexer": "ipython3",
   "version": "3.9.17"
  },
  "orig_nbformat": 4
 },
 "nbformat": 4,
 "nbformat_minor": 2
}
